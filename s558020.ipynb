{
 "cells": [
  {
   "cell_type": "code",
   "execution_count": 12,
   "metadata": {},
   "outputs": [
    {
     "name": "stdout",
     "output_type": "stream",
     "text": [
      "**************\n"
     ]
    }
   ],
   "source": [
    "for i in range(1, 5):\n",
    "    for j in range(1, i+1):\n",
    "        print(\"*\", end=\"\")\n",
    "\n",
    "for k in range(1, 9-2*i):\n",
    "    print(\" \", end=\"\")\n",
    "\n",
    "\n",
    "for j in range(1, i+1):\n",
    "    print(\"*\", end=\"\")\n",
    "\n",
    "\n",
    "print()"
   ]
  },
  {
   "attachments": {},
   "cell_type": "markdown",
   "metadata": {},
   "source": [
    "Anthony Schomer\n",
    "\n",
    "s558020"
   ]
  }
 ],
 "metadata": {
  "kernelspec": {
   "display_name": "python-ds-nb",
   "language": "python",
   "name": "python3"
  },
  "language_info": {
   "codemirror_mode": {
    "name": "ipython",
    "version": 3
   },
   "file_extension": ".py",
   "mimetype": "text/x-python",
   "name": "python",
   "nbconvert_exporter": "python",
   "pygments_lexer": "ipython3",
   "version": "3.11.4"
  },
  "orig_nbformat": 4
 },
 "nbformat": 4,
 "nbformat_minor": 2
}
